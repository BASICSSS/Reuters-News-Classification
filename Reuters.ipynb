{
  "nbformat": 4,
  "nbformat_minor": 0,
  "metadata": {
    "colab": {
      "name": "Untitled2.ipynb",
      "provenance": [],
      "authorship_tag": "ABX9TyOZhSLQtsl2gBwaz4APedKn",
      "include_colab_link": true
    },
    "kernelspec": {
      "name": "python3",
      "display_name": "Python 3"
    },
    "language_info": {
      "name": "python"
    }
  },
  "cells": [
    {
      "cell_type": "markdown",
      "metadata": {
        "id": "view-in-github",
        "colab_type": "text"
      },
      "source": [
        "<a href=\"https://colab.research.google.com/github/BASICSSS/Reuters-News-Classification/blob/main/Reuters.ipynb\" target=\"_parent\"><img src=\"https://colab.research.google.com/assets/colab-badge.svg\" alt=\"Open In Colab\"/></a>"
      ]
    },
    {
      "cell_type": "code",
      "metadata": {
        "colab": {
          "base_uri": "https://localhost:8080/"
        },
        "id": "VRkwdEluX2xY",
        "outputId": "8d2fd591-c41b-4d4a-a145-25bd052ee09b"
      },
      "source": [
        "from keras.datasets import reuters\n",
        "\n",
        "(train_data, train_labels), (test_data, test_labels) = reuters.load_data(num_words=10000)"
      ],
      "execution_count": null,
      "outputs": [
        {
          "output_type": "stream",
          "text": [
            "/usr/local/lib/python3.7/dist-packages/keras/datasets/reuters.py:143: VisibleDeprecationWarning: Creating an ndarray from ragged nested sequences (which is a list-or-tuple of lists-or-tuples-or ndarrays with different lengths or shapes) is deprecated. If you meant to do this, you must specify 'dtype=object' when creating the ndarray\n",
            "  x_train, y_train = np.array(xs[:idx]), np.array(labels[:idx])\n",
            "/usr/local/lib/python3.7/dist-packages/keras/datasets/reuters.py:144: VisibleDeprecationWarning: Creating an ndarray from ragged nested sequences (which is a list-or-tuple of lists-or-tuples-or ndarrays with different lengths or shapes) is deprecated. If you meant to do this, you must specify 'dtype=object' when creating the ndarray\n",
            "  x_test, y_test = np.array(xs[idx:]), np.array(labels[idx:])\n"
          ],
          "name": "stderr"
        }
      ]
    },
    {
      "cell_type": "code",
      "metadata": {
        "colab": {
          "base_uri": "https://localhost:8080/"
        },
        "id": "HeI4VeUzrHYJ",
        "outputId": "325adf6a-5227-4f4c-a9a6-e68979ae7827"
      },
      "source": [
        "train_labels[2]"
      ],
      "execution_count": null,
      "outputs": [
        {
          "output_type": "execute_result",
          "data": {
            "text/plain": [
              "3"
            ]
          },
          "metadata": {
            "tags": []
          },
          "execution_count": 64
        }
      ]
    },
    {
      "cell_type": "code",
      "metadata": {
        "id": "dyyi5wUA4BER"
      },
      "source": [
        "word_index = reuters.get_word_index()\n",
        "reverse_word_index = dict([(value, key) for (key, value) in word_index.items()])\n",
        "decoded_newswire = ' '.join([reverse_word_index.get(i - 3, '?') for i in train_data[0]])"
      ],
      "execution_count": null,
      "outputs": []
    },
    {
      "cell_type": "code",
      "metadata": {
        "id": "oG3IbnJnrHT6"
      },
      "source": [
        "word_index = reuters.get_word_index()\n",
        "reverse_word_index = dict([(value, key) for (key, value) in word_index.items()])\n",
        "decoded_newswire = ' '.join([reverse_word_index.get(i - 3, '?') for i in train_data[0]])   #궁금하여 디코딩"
      ],
      "execution_count": null,
      "outputs": []
    },
    {
      "cell_type": "code",
      "metadata": {
        "colab": {
          "base_uri": "https://localhost:8080/"
        },
        "id": "tCNAYCmdrzyK",
        "outputId": "93b69c2e-5719-486b-ece9-fca3b562a55c"
      },
      "source": [
        "print(train_data.shape)\n",
        "print(train_labels.shape)\n",
        "print(test_data.shape)\n",
        "print(test_labels.shape)"
      ],
      "execution_count": null,
      "outputs": [
        {
          "output_type": "stream",
          "text": [
            "(8982,)\n",
            "(8982,)\n",
            "(2246,)\n",
            "(2246,)\n"
          ],
          "name": "stdout"
        }
      ]
    },
    {
      "cell_type": "code",
      "metadata": {
        "id": "abaGs8wlo0QU"
      },
      "source": [
        "import numpy as np\n",
        "from keras.utils.np_utils import to_categorical\n",
        "\n",
        "\n",
        "def vectorize_sequences(sequences, dimension=10000):\n",
        "    results = np.zeros((len(sequences), dimension))\n",
        "    for i, sequence in enumerate(sequences):\n",
        "        results[i, sequence] = 1.\n",
        "    return results\n",
        "\n",
        "x_train = vectorize_sequences(train_data) \n",
        "x_test = vectorize_sequences(test_data) "
      ],
      "execution_count": null,
      "outputs": []
    },
    {
      "cell_type": "code",
      "metadata": {
        "colab": {
          "base_uri": "https://localhost:8080/"
        },
        "id": "FbP4hTmK1X-a",
        "outputId": "b232cd3d-02d9-4987-fe14-c851fc6d444c"
      },
      "source": [
        "x_train.shape"
      ],
      "execution_count": null,
      "outputs": [
        {
          "output_type": "execute_result",
          "data": {
            "text/plain": [
              "(8982, 10000)"
            ]
          },
          "metadata": {
            "tags": []
          },
          "execution_count": 69
        }
      ]
    },
    {
      "cell_type": "code",
      "metadata": {
        "id": "X-KK3ZclvUxH"
      },
      "source": [
        "to_one_train_labels = to_categorical(train_labels) \n",
        "to_one_test_labels = to_categorical(test_labels) # 형태를 맞춰주기 위한 원핫인코딩"
      ],
      "execution_count": null,
      "outputs": []
    },
    {
      "cell_type": "code",
      "metadata": {
        "colab": {
          "base_uri": "https://localhost:8080/"
        },
        "id": "Jj0sEoHn5jCk",
        "outputId": "bdc21707-742c-43b3-9a02-712865bad627"
      },
      "source": [
        "x_train[0]"
      ],
      "execution_count": null,
      "outputs": [
        {
          "output_type": "execute_result",
          "data": {
            "text/plain": [
              "array([0., 1., 1., ..., 0., 0., 0.])"
            ]
          },
          "metadata": {
            "tags": []
          },
          "execution_count": 71
        }
      ]
    },
    {
      "cell_type": "code",
      "metadata": {
        "colab": {
          "base_uri": "https://localhost:8080/"
        },
        "id": "Sk06byY_33yi",
        "outputId": "2f2bba33-1953-4690-8ed5-7a1a54dbb8e5"
      },
      "source": [
        "to_one_train_labels"
      ],
      "execution_count": null,
      "outputs": [
        {
          "output_type": "execute_result",
          "data": {
            "text/plain": [
              "array([[0., 0., 0., ..., 0., 0., 0.],\n",
              "       [0., 0., 0., ..., 0., 0., 0.],\n",
              "       [0., 0., 0., ..., 0., 0., 0.],\n",
              "       ...,\n",
              "       [0., 0., 0., ..., 0., 0., 0.],\n",
              "       [0., 0., 0., ..., 0., 0., 0.],\n",
              "       [0., 0., 0., ..., 0., 0., 0.]], dtype=float32)"
            ]
          },
          "metadata": {
            "tags": []
          },
          "execution_count": 72
        }
      ]
    },
    {
      "cell_type": "code",
      "metadata": {
        "id": "lRnSi9aGsefc"
      },
      "source": [
        "from keras.models import Sequential\n",
        "from keras.layers import Dense\n",
        "\n",
        "model = Sequential()\n",
        "model.add(Dense(units=64, activation='relu', input_shape=(10000,)))\n",
        "model.add(Dense(units=64, activation='relu'))\n",
        "model.add(Dense(units=46, activation='softmax'))\n",
        "\n",
        "model.compile(optimizer='rmsprop', loss='categorical_crossentropy', metrics=['accuracy'])"
      ],
      "execution_count": null,
      "outputs": []
    },
    {
      "cell_type": "code",
      "metadata": {
        "id": "VbpqldoruTtU"
      },
      "source": [
        "x_val = x_train[:1000,]\n",
        "y_val = to_one_train_labels[:1000,]\n",
        "\n",
        "partial_x_train = x_train[1000:,] #학습을 위해 학습데이터와 레이블의 개수를 맞춰주어야함.\n",
        "partial_y_train = to_one_train_labels[1000:,] "
      ],
      "execution_count": null,
      "outputs": []
    },
    {
      "cell_type": "code",
      "metadata": {
        "colab": {
          "base_uri": "https://localhost:8080/"
        },
        "id": "e_E3GK7-CVef",
        "outputId": "d3feae73-4dec-4d3d-84ea-94a3b8c21e1a"
      },
      "source": [
        "print(x_val.shape)\n",
        "print(y_val.shape)\n",
        "print(partial_x_train.shape)\n",
        "print(partial_y_train.shape)"
      ],
      "execution_count": null,
      "outputs": [
        {
          "output_type": "stream",
          "text": [
            "(1000, 10000)\n",
            "(1000, 46)\n",
            "(7982, 10000)\n",
            "(7982, 46)\n"
          ],
          "name": "stdout"
        }
      ]
    },
    {
      "cell_type": "code",
      "metadata": {
        "colab": {
          "base_uri": "https://localhost:8080/"
        },
        "id": "z8ZAECBDFKrH",
        "outputId": "45af882e-e511-4b46-d7f4-2f3fe87bb8fb"
      },
      "source": [
        "history = model.fit(partial_x_train, partial_y_train, epochs=20 ,batch_size = 512, validation_data=(x_val,y_val))"
      ],
      "execution_count": null,
      "outputs": [
        {
          "output_type": "stream",
          "text": [
            "Epoch 1/20\n",
            "16/16 [==============================] - 2s 69ms/step - loss: 3.1765 - accuracy: 0.3476 - val_loss: 1.8547 - val_accuracy: 0.6110\n",
            "Epoch 2/20\n",
            "16/16 [==============================] - 1s 47ms/step - loss: 1.6203 - accuracy: 0.6776 - val_loss: 1.3292 - val_accuracy: 0.7080\n",
            "Epoch 3/20\n",
            "16/16 [==============================] - 1s 46ms/step - loss: 1.1095 - accuracy: 0.7721 - val_loss: 1.1417 - val_accuracy: 0.7530\n",
            "Epoch 4/20\n",
            "16/16 [==============================] - 1s 48ms/step - loss: 0.8533 - accuracy: 0.8221 - val_loss: 1.0618 - val_accuracy: 0.7830\n",
            "Epoch 5/20\n",
            "16/16 [==============================] - 1s 49ms/step - loss: 0.6766 - accuracy: 0.8616 - val_loss: 0.9728 - val_accuracy: 0.7970\n",
            "Epoch 6/20\n",
            "16/16 [==============================] - 1s 48ms/step - loss: 0.5448 - accuracy: 0.8871 - val_loss: 0.9408 - val_accuracy: 0.8090\n",
            "Epoch 7/20\n",
            "16/16 [==============================] - 1s 46ms/step - loss: 0.4551 - accuracy: 0.9068 - val_loss: 0.9415 - val_accuracy: 0.7970\n",
            "Epoch 8/20\n",
            "16/16 [==============================] - 1s 48ms/step - loss: 0.3587 - accuracy: 0.9249 - val_loss: 0.9135 - val_accuracy: 0.8120\n",
            "Epoch 9/20\n",
            "16/16 [==============================] - 1s 48ms/step - loss: 0.2869 - accuracy: 0.9397 - val_loss: 0.8936 - val_accuracy: 0.8220\n",
            "Epoch 10/20\n",
            "16/16 [==============================] - 1s 48ms/step - loss: 0.2458 - accuracy: 0.9470 - val_loss: 0.9106 - val_accuracy: 0.8230\n",
            "Epoch 11/20\n",
            "16/16 [==============================] - 1s 47ms/step - loss: 0.2198 - accuracy: 0.9472 - val_loss: 0.9366 - val_accuracy: 0.8140\n",
            "Epoch 12/20\n",
            "16/16 [==============================] - 1s 48ms/step - loss: 0.1856 - accuracy: 0.9569 - val_loss: 0.9395 - val_accuracy: 0.8140\n",
            "Epoch 13/20\n",
            "16/16 [==============================] - 1s 47ms/step - loss: 0.1620 - accuracy: 0.9559 - val_loss: 0.9820 - val_accuracy: 0.8050\n",
            "Epoch 14/20\n",
            "16/16 [==============================] - 1s 48ms/step - loss: 0.1466 - accuracy: 0.9576 - val_loss: 0.9776 - val_accuracy: 0.8120\n",
            "Epoch 15/20\n",
            "16/16 [==============================] - 1s 47ms/step - loss: 0.1337 - accuracy: 0.9598 - val_loss: 1.0215 - val_accuracy: 0.8090\n",
            "Epoch 16/20\n",
            "16/16 [==============================] - 1s 47ms/step - loss: 0.1247 - accuracy: 0.9629 - val_loss: 1.0523 - val_accuracy: 0.7980\n",
            "Epoch 17/20\n",
            "16/16 [==============================] - 1s 46ms/step - loss: 0.1239 - accuracy: 0.9596 - val_loss: 1.0222 - val_accuracy: 0.8100\n",
            "Epoch 18/20\n",
            "16/16 [==============================] - 1s 47ms/step - loss: 0.1097 - accuracy: 0.9583 - val_loss: 1.1153 - val_accuracy: 0.8000\n",
            "Epoch 19/20\n",
            "16/16 [==============================] - 1s 49ms/step - loss: 0.1089 - accuracy: 0.9614 - val_loss: 1.0199 - val_accuracy: 0.8170\n",
            "Epoch 20/20\n",
            "16/16 [==============================] - 1s 47ms/step - loss: 0.1091 - accuracy: 0.9600 - val_loss: 1.0989 - val_accuracy: 0.8110\n"
          ],
          "name": "stdout"
        }
      ]
    },
    {
      "cell_type": "code",
      "metadata": {
        "colab": {
          "base_uri": "https://localhost:8080/"
        },
        "id": "9UPvFTkHuDdZ",
        "outputId": "d2d229bc-05be-4f5b-8bff-694cbe05ec23"
      },
      "source": [
        "model.evaluate(x_test,to_one_test_labels )"
      ],
      "execution_count": null,
      "outputs": [
        {
          "output_type": "stream",
          "text": [
            "71/71 [==============================] - 0s 3ms/step - loss: 1.2631 - accuracy: 0.7769\n"
          ],
          "name": "stdout"
        },
        {
          "output_type": "execute_result",
          "data": {
            "text/plain": [
              "[1.263141393661499, 0.7769367694854736]"
            ]
          },
          "metadata": {
            "tags": []
          },
          "execution_count": 93
        }
      ]
    },
    {
      "cell_type": "code",
      "metadata": {
        "colab": {
          "base_uri": "https://localhost:8080/",
          "height": 279
        },
        "id": "oRdu6bXDsea3",
        "outputId": "c1596e30-3477-477a-abeb-507ce3cc073a"
      },
      "source": [
        "import matplotlib.pyplot as plt\n",
        "\n",
        "\n",
        "plt.plot(history.history['accuracy'],'r',label='train_accuracy')\n",
        "plt.plot(history.history['val_accuracy'],label='val_accuracy')\n",
        "plt.plot(history.history['loss'],'ro' ,label='train_loss')\n",
        "plt.plot(history.history['val_loss'],'bo',label='val_loss')\n",
        "plt.xlabel('epochs')\n",
        "plt.ylabel('loss')\n",
        "plt.legend()\n",
        "plt.show()"
      ],
      "execution_count": null,
      "outputs": [
        {
          "output_type": "display_data",
          "data": {
            "image/png": "[encoded data removed]",
            "text/plain": [
              "<Figure size 432x288 with 1 Axes>"
            ]
          },
          "metadata": {
            "tags": [],
            "needs_background": "light"
          }
        }
      ]
    },
    {
      "cell_type": "code",
      "metadata": {
        "id": "xeRVUYQDcTKO"
      },
      "source": [
        ""
      ],
      "execution_count": null,
      "outputs": []
    },
    {
      "cell_type": "code",
      "metadata": {
        "colab": {
          "base_uri": "https://localhost:8080/"
        },
        "id": "1WjzETEscN4m",
        "outputId": "c5dafb54-f775-4c09-d57c-048ccfe2e943"
      },
      "source": [
        ""
      ],
      "execution_count": null,
      "outputs": [
        {
          "output_type": "execute_result",
          "data": {
            "text/plain": [
              "(8982,)"
            ]
          },
          "metadata": {
            "tags": []
          },
          "execution_count": 2
        }
      ]
    },
    {
      "cell_type": "code",
      "metadata": {
        "id": "e5jc9QKRcU-e"
      },
      "source": [
        ""
      ],
      "execution_count": null,
      "outputs": []
    },
    {
      "cell_type": "code",
      "metadata": {
        "id": "ZpYIvkNccWG5"
      },
      "source": [
        ""
      ],
      "execution_count": null,
      "outputs": []
    },
    {
      "cell_type": "code",
      "metadata": {
        "id": "9ZSVMjLDcXPy"
      },
      "source": [
        ""
      ],
      "execution_count": null,
      "outputs": []
    }
  ]
}